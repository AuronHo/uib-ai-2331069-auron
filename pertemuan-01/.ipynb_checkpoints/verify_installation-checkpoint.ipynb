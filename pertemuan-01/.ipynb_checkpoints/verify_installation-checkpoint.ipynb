{
 "cells": [
  {
   "cell_type": "code",
   "execution_count": 1,
   "id": "cada3f1d-1cbf-4f45-938d-b820053cd0f2",
   "metadata": {},
   "outputs": [
    {
     "name": "stdout",
     "output_type": "stream",
     "text": [
      "(pkg): OK, version = 2.0.1\n",
      "(pkg): OK, version = 2.3.2\n",
      "(pkg): OK, version = 1.7.1\n",
      "(pkg): OK, version = 0.5.0\n",
      "(pkg): OK, version = 4.12.0\n",
      "(pkg): OK, version = 3.10.6\n",
      "(pkg): OK, version = 3.9.1\n",
      "Python: 3.12.11 | packaged by Anaconda, Inc. | (main, Jun  5 2025, 12:58:53) [MSC v.1929 64 bit (AMD64)]\n"
     ]
    }
   ],
   "source": [
    "#verify_installation\n",
    "\n",
    "import sys \n",
    "import importlib\n",
    "packages = [\"numpy\",\"pandas\",\"sklearn\",\"skfuzzy\",\"cv2\",\"matplotlib\",\"nltk\"]\n",
    "for pkg in packages:\n",
    "    try:\n",
    "        m = importlib.import_module(pkg)\n",
    "        print(f\"(pkg): OK, version = {getattr(m, '__version__', 'unknown')}\")\n",
    "    except Exception as e:\n",
    "        print(f\"(pkg):ERROR -> (e)\")\n",
    "\n",
    "print(\"Python:\", sys.version)"
   ]
  },
  {
   "cell_type": "code",
   "execution_count": null,
   "id": "6884259b-4dc4-429c-a93d-7d47a718e1b8",
   "metadata": {},
   "outputs": [],
   "source": []
  },
  {
   "cell_type": "code",
   "execution_count": null,
   "id": "d8294d72-2d51-4ac4-b22c-52878f435765",
   "metadata": {},
   "outputs": [],
   "source": []
  }
 ],
 "metadata": {
  "kernelspec": {
   "display_name": "Python (my_env)",
   "language": "python",
   "name": "my_env"
  },
  "language_info": {
   "codemirror_mode": {
    "name": "ipython",
    "version": 3
   },
   "file_extension": ".py",
   "mimetype": "text/x-python",
   "name": "python",
   "nbconvert_exporter": "python",
   "pygments_lexer": "ipython3",
   "version": "3.12.11"
  }
 },
 "nbformat": 4,
 "nbformat_minor": 5
}
