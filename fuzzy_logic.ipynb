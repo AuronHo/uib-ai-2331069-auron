{
 "cells": [
  {
   "cell_type": "code",
   "execution_count": 15,
   "id": "081a0721-ee50-4f89-bf22-717d8794505c",
   "metadata": {},
   "outputs": [],
   "source": [
    "# Cell 1: Import libraries\n",
    "import numpy as np\n",
    "import pandas as pd\n",
    "import matplotlib.pyplot as plt\n",
    "import skfuzzy as fuzz\n",
    "from skfuzzy import control as ctrl\n",
    "\n",
    "%matplotlib inline\n"
   ]
  },
  {
   "cell_type": "code",
   "execution_count": 22,
   "id": "9196fdca-a4d7-4db8-adb5-230868d4ff4e",
   "metadata": {},
   "outputs": [
    {
     "name": "stdout",
     "output_type": "stream",
     "text": [
      "Columns: Index(['fixed_acidity', 'volatile_acidity', 'citric_acid', 'residual_sugar',\n",
      "       'chlorides', 'free_sulfur_dioxide', 'total_sulfur_dioxide', 'density',\n",
      "       'ph', 'sulphates', 'alcohol', 'quality'],\n",
      "      dtype='object')\n",
      "   fixed_acidity  volatile_acidity  citric_acid  residual_sugar  chlorides  \\\n",
      "0            7.4              0.70         0.00             1.9      0.076   \n",
      "1            7.8              0.88         0.00             2.6      0.098   \n",
      "2            7.8              0.76         0.04             2.3      0.092   \n",
      "3           11.2              0.28         0.56             1.9      0.075   \n",
      "4            7.4              0.70         0.00             1.9      0.076   \n",
      "\n",
      "   free_sulfur_dioxide  total_sulfur_dioxide  density    ph  sulphates  \\\n",
      "0                 11.0                  34.0   0.9978  3.51       0.56   \n",
      "1                 25.0                  67.0   0.9968  3.20       0.68   \n",
      "2                 15.0                  54.0   0.9970  3.26       0.65   \n",
      "3                 17.0                  60.0   0.9980  3.16       0.58   \n",
      "4                 11.0                  34.0   0.9978  3.51       0.56   \n",
      "\n",
      "   alcohol  quality  \n",
      "0      9.4        5  \n",
      "1      9.8        5  \n",
      "2      9.8        5  \n",
      "3      9.8        6  \n",
      "4      9.4        5  \n"
     ]
    }
   ],
   "source": [
    "import pandas as pd\n",
    "\n",
    "# If your file is comma-separated\n",
    "df = pd.read_csv(\"./data/winequality-red.csv\", sep=\",\")\n",
    "\n",
    "# Clean column names\n",
    "df.columns = df.columns.str.strip().str.lower().str.replace(\" \", \"_\")\n",
    "\n",
    "print(\"Columns:\", df.columns)\n",
    "print(df.head())\n"
   ]
  },
  {
   "cell_type": "code",
   "execution_count": 23,
   "id": "ba1f84fb-8b04-4b48-8f3e-5efc4833dde6",
   "metadata": {},
   "outputs": [
    {
     "name": "stdout",
     "output_type": "stream",
     "text": [
      "Small dataset shape: (200, 12)\n"
     ]
    }
   ],
   "source": [
    "# Take 200 random rows for smaller dataset\n",
    "df_small = df.sample(n=200, random_state=42).reset_index(drop=True)\n",
    "print(\"Small dataset shape:\", df_small.shape)"
   ]
  },
  {
   "cell_type": "code",
   "execution_count": 33,
   "id": "58e89768-aa68-40d9-b48f-61e8284ab13e",
   "metadata": {},
   "outputs": [],
   "source": [
    "# Input variables\n",
    "alcohol = ctrl.Antecedent(np.arange(7, 15, 0.1), 'alcohol')\n",
    "acidity = ctrl.Antecedent(np.arange(2.5, 4.5, 0.01), 'acidity')  # using pH\n",
    "\n",
    "# Output variable\n",
    "quality = ctrl.Consequent(np.arange(0, 11, 1), 'quality')\n",
    "\n",
    "# Membership functions for alcohol\n",
    "alcohol['low'] = fuzz.trimf(alcohol.universe, [7, 8, 9.5])\n",
    "alcohol['medium'] = fuzz.trimf(alcohol.universe, [8.5, 10.5, 12.5])\n",
    "alcohol['high'] = fuzz.trimf(alcohol.universe, [11, 13, 15])\n",
    "\n",
    "# Membership functions for acidity (pH)\n",
    "acidity['low'] = fuzz.trimf(acidity.universe, [2.5, 3.0, 3.4])\n",
    "acidity['medium'] = fuzz.trimf(acidity.universe, [3.2, 3.5, 3.8])\n",
    "acidity['high'] = fuzz.trimf(acidity.universe, [3.6, 4.0, 4.5])\n",
    "\n",
    "# Membership functions for quality\n",
    "quality['bad'] = fuzz.trimf(quality.universe, [0, 2, 4])\n",
    "quality['average'] = fuzz.trimf(quality.universe, [3, 5, 7])\n",
    "quality['good'] = fuzz.trimf(quality.universe, [6, 8, 10])\n",
    "\n"
   ]
  },
  {
   "cell_type": "code",
   "execution_count": 34,
   "id": "d144f289-f682-4dc5-8a81-3e928e5fb395",
   "metadata": {},
   "outputs": [],
   "source": [
    "# Rules\n",
    "rule1 = ctrl.Rule(alcohol['high'] & acidity['low'], quality['good'])\n",
    "rule2 = ctrl.Rule(alcohol['high'] & acidity['medium'], quality['good'])\n",
    "rule3 = ctrl.Rule(alcohol['medium'] & acidity['low'], quality['average'])\n",
    "rule4 = ctrl.Rule(alcohol['medium'] & acidity['medium'], quality['average'])\n",
    "rule5 = ctrl.Rule(alcohol['low'] & acidity['low'], quality['bad'])\n",
    "rule6 = ctrl.Rule(acidity['high'], quality['bad'])  # override if acidity too high\n"
   ]
  },
  {
   "cell_type": "code",
   "execution_count": 43,
   "id": "7ca5dc79-c1cb-453c-ad73-16a624bea782",
   "metadata": {},
   "outputs": [
    {
     "name": "stdout",
     "output_type": "stream",
     "text": [
      "   alcohol    ph  predicted_quality\n",
      "0      9.6  3.24                5.0\n",
      "1      9.5  3.39                5.0\n",
      "2      9.9  3.28                5.0\n",
      "3      9.8  3.33                5.0\n",
      "4     10.6  3.39                5.0\n"
     ]
    }
   ],
   "source": [
    "predictions = []\n",
    "\n",
    "for idx, row in df_small.iterrows():\n",
    "    try:\n",
    "        # Set fuzzy inputs\n",
    "        quality_sim.input['alcohol'] = row['alcohol']\n",
    "        quality_sim.input['acidity'] = row['ph']\n",
    "\n",
    "        # Compute fuzzy output\n",
    "        quality_sim.compute()\n",
    "\n",
    "        # Save prediction\n",
    "        predictions.append(quality_sim.output['quality'])\n",
    "    except Exception as e:\n",
    "        print(f\"Row {idx} error: {e}\")\n",
    "        predictions.append(None)  # keep alignment\n",
    "\n",
    "# Add predictions as a new column\n",
    "df_small['predicted_quality'] = predictions\n",
    "\n",
    "print(df_small[['alcohol', 'ph', 'predicted_quality']].head())\n"
   ]
  },
  {
   "cell_type": "code",
   "execution_count": 49,
   "id": "534bf64e-b913-4c28-932c-38265cba27f2",
   "metadata": {},
   "outputs": [
    {
     "data": {
      "text/html": [
       "<div>\n",
       "<style scoped>\n",
       "    .dataframe tbody tr th:only-of-type {\n",
       "        vertical-align: middle;\n",
       "    }\n",
       "\n",
       "    .dataframe tbody tr th {\n",
       "        vertical-align: top;\n",
       "    }\n",
       "\n",
       "    .dataframe thead th {\n",
       "        text-align: right;\n",
       "    }\n",
       "</style>\n",
       "<table border=\"1\" class=\"dataframe\">\n",
       "  <thead>\n",
       "    <tr style=\"text-align: right;\">\n",
       "      <th></th>\n",
       "      <th>fixed_acidity</th>\n",
       "      <th>volatile_acidity</th>\n",
       "      <th>citric_acid</th>\n",
       "      <th>residual_sugar</th>\n",
       "      <th>chlorides</th>\n",
       "      <th>free_sulfur_dioxide</th>\n",
       "      <th>total_sulfur_dioxide</th>\n",
       "      <th>density</th>\n",
       "      <th>ph</th>\n",
       "      <th>sulphates</th>\n",
       "      <th>alcohol</th>\n",
       "      <th>quality</th>\n",
       "      <th>predicted_quality</th>\n",
       "      <th>predicted_label</th>\n",
       "    </tr>\n",
       "  </thead>\n",
       "  <tbody>\n",
       "    <tr>\n",
       "      <th>0</th>\n",
       "      <td>7.7</td>\n",
       "      <td>0.56</td>\n",
       "      <td>0.08</td>\n",
       "      <td>2.50</td>\n",
       "      <td>0.114</td>\n",
       "      <td>14.0</td>\n",
       "      <td>46.0</td>\n",
       "      <td>0.9971</td>\n",
       "      <td>3.24</td>\n",
       "      <td>0.66</td>\n",
       "      <td>9.6</td>\n",
       "      <td>6</td>\n",
       "      <td>5.0</td>\n",
       "      <td>Medium</td>\n",
       "    </tr>\n",
       "    <tr>\n",
       "      <th>1</th>\n",
       "      <td>7.8</td>\n",
       "      <td>0.50</td>\n",
       "      <td>0.17</td>\n",
       "      <td>1.60</td>\n",
       "      <td>0.082</td>\n",
       "      <td>21.0</td>\n",
       "      <td>102.0</td>\n",
       "      <td>0.9960</td>\n",
       "      <td>3.39</td>\n",
       "      <td>0.48</td>\n",
       "      <td>9.5</td>\n",
       "      <td>5</td>\n",
       "      <td>5.0</td>\n",
       "      <td>Medium</td>\n",
       "    </tr>\n",
       "    <tr>\n",
       "      <th>2</th>\n",
       "      <td>10.7</td>\n",
       "      <td>0.67</td>\n",
       "      <td>0.22</td>\n",
       "      <td>2.70</td>\n",
       "      <td>0.107</td>\n",
       "      <td>17.0</td>\n",
       "      <td>34.0</td>\n",
       "      <td>1.0004</td>\n",
       "      <td>3.28</td>\n",
       "      <td>0.98</td>\n",
       "      <td>9.9</td>\n",
       "      <td>6</td>\n",
       "      <td>5.0</td>\n",
       "      <td>Medium</td>\n",
       "    </tr>\n",
       "    <tr>\n",
       "      <th>3</th>\n",
       "      <td>8.5</td>\n",
       "      <td>0.46</td>\n",
       "      <td>0.31</td>\n",
       "      <td>2.25</td>\n",
       "      <td>0.078</td>\n",
       "      <td>32.0</td>\n",
       "      <td>58.0</td>\n",
       "      <td>0.9980</td>\n",
       "      <td>3.33</td>\n",
       "      <td>0.54</td>\n",
       "      <td>9.8</td>\n",
       "      <td>5</td>\n",
       "      <td>5.0</td>\n",
       "      <td>Medium</td>\n",
       "    </tr>\n",
       "    <tr>\n",
       "      <th>4</th>\n",
       "      <td>6.7</td>\n",
       "      <td>0.46</td>\n",
       "      <td>0.24</td>\n",
       "      <td>1.70</td>\n",
       "      <td>0.077</td>\n",
       "      <td>18.0</td>\n",
       "      <td>34.0</td>\n",
       "      <td>0.9948</td>\n",
       "      <td>3.39</td>\n",
       "      <td>0.60</td>\n",
       "      <td>10.6</td>\n",
       "      <td>6</td>\n",
       "      <td>5.0</td>\n",
       "      <td>Medium</td>\n",
       "    </tr>\n",
       "  </tbody>\n",
       "</table>\n",
       "</div>"
      ],
      "text/plain": [
       "   fixed_acidity  volatile_acidity  citric_acid  residual_sugar  chlorides  \\\n",
       "0            7.7              0.56         0.08            2.50      0.114   \n",
       "1            7.8              0.50         0.17            1.60      0.082   \n",
       "2           10.7              0.67         0.22            2.70      0.107   \n",
       "3            8.5              0.46         0.31            2.25      0.078   \n",
       "4            6.7              0.46         0.24            1.70      0.077   \n",
       "\n",
       "   free_sulfur_dioxide  total_sulfur_dioxide  density    ph  sulphates  \\\n",
       "0                 14.0                  46.0   0.9971  3.24       0.66   \n",
       "1                 21.0                 102.0   0.9960  3.39       0.48   \n",
       "2                 17.0                  34.0   1.0004  3.28       0.98   \n",
       "3                 32.0                  58.0   0.9980  3.33       0.54   \n",
       "4                 18.0                  34.0   0.9948  3.39       0.60   \n",
       "\n",
       "   alcohol  quality  predicted_quality predicted_label  \n",
       "0      9.6        6                5.0          Medium  \n",
       "1      9.5        5                5.0          Medium  \n",
       "2      9.9        6                5.0          Medium  \n",
       "3      9.8        5                5.0          Medium  \n",
       "4     10.6        6                5.0          Medium  "
      ]
     },
     "execution_count": 49,
     "metadata": {},
     "output_type": "execute_result"
    }
   ],
   "source": [
    "df_small.head()"
   ]
  },
  {
   "cell_type": "code",
   "execution_count": 45,
   "id": "f8b7f844-b284-4d30-94bc-903e06509dc2",
   "metadata": {},
   "outputs": [
    {
     "name": "stdout",
     "output_type": "stream",
     "text": [
      "   quality  predicted_quality predicted_label\n",
      "0        6           5.000000          Medium\n",
      "1        5           5.000000          Medium\n",
      "2        6           5.000000          Medium\n",
      "3        5           5.000000          Medium\n",
      "4        6           5.000000          Medium\n",
      "5        5           5.000000          Medium\n",
      "6        5           5.000000          Medium\n",
      "7        5           5.000000          Medium\n",
      "8        5           5.000000          Medium\n",
      "9        6           4.120588          Medium\n"
     ]
    }
   ],
   "source": [
    "# Define labeling based on fuzzy prediction\n",
    "def label_quality(value):\n",
    "    if value < 4:\n",
    "        return \"Low\"\n",
    "    elif value < 7:\n",
    "        return \"Medium\"\n",
    "    else:\n",
    "        return \"High\"\n",
    "\n",
    "df_small['predicted_label'] = df_small['predicted_quality'].apply(label_quality)\n",
    "\n",
    "print(df_small[['quality', 'predicted_quality', 'predicted_label']].head(10))\n",
    "\n",
    "\n"
   ]
  },
  {
   "cell_type": "code",
   "execution_count": 48,
   "id": "4a912339-7ffb-4fe1-92c8-699ae9243229",
   "metadata": {},
   "outputs": [
    {
     "data": {
      "image/png": "[encoded data removed]",
      "text/plain": [
       "<Figure size 1800x500 with 3 Axes>"
      ]
     },
     "metadata": {},
     "output_type": "display_data"
    }
   ],
   "source": [
    "import matplotlib.pyplot as plt\n",
    "\n",
    "plt.figure(figsize=(18,5))\n",
    "\n",
    "# 1. Actual wine quality distribution\n",
    "plt.subplot(1,3,1)\n",
    "plt.hist(df_small['quality'], bins=10, color='skyblue', edgecolor='black')\n",
    "plt.title(\"Distribution of Actual Wine Quality\")\n",
    "plt.xlabel(\"Quality (dataset)\")\n",
    "plt.ylabel(\"Number of Wines\")\n",
    "\n",
    "# 2. Fuzzy numeric prediction distribution\n",
    "plt.subplot(1,3,2)\n",
    "plt.hist(df_small['predicted_quality'], bins=10, color='salmon', edgecolor='black')\n",
    "plt.title(\"Distribution of Fuzzy Predicted Quality (Numeric)\")\n",
    "plt.xlabel(\"Predicted Quality (fuzzy score)\")\n",
    "plt.ylabel(\"Number of Wines\")\n",
    "\n",
    "# 3. Fuzzy label distribution (Low, Medium, High)\n",
    "plt.subplot(1,3,3)\n",
    "df_small['predicted_label'].value_counts().plot(kind='bar', color=['red','orange','green'], edgecolor='black')\n",
    "plt.title(\"Distribution of Fuzzy Predicted Quality (Labels)\")\n",
    "plt.xlabel(\"Predicted Label\")\n",
    "plt.ylabel(\"Number of Wines\")\n",
    "\n",
    "plt.tight_layout()\n",
    "plt.show()\n",
    "\n"
   ]
  },
  {
   "cell_type": "code",
   "execution_count": null,
   "id": "ea83f68c-07dc-49ab-9359-e435cfc49d05",
   "metadata": {},
   "outputs": [],
   "source": []
  }
 ],
 "metadata": {
  "kernelspec": {
   "display_name": "Python (ai_env)",
   "language": "python",
   "name": "ai_env"
  },
  "language_info": {
   "codemirror_mode": {
    "name": "ipython",
    "version": 3
   },
   "file_extension": ".py",
   "mimetype": "text/x-python",
   "name": "python",
   "nbconvert_exporter": "python",
   "pygments_lexer": "ipython3",
   "version": "3.12.11"
  }
 },
 "nbformat": 4,
 "nbformat_minor": 5
}
